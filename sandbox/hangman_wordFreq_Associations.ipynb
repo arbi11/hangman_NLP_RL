{
  "nbformat": 4,
  "nbformat_minor": 0,
  "metadata": {
    "colab": {
      "provenance": []
    },
    "kernelspec": {
      "name": "python3",
      "display_name": "Python 3"
    },
    "language_info": {
      "name": "python"
    }
  },
  "cells": [
    {
      "cell_type": "code",
      "source": [
        "!pip install apyori"
      ],
      "metadata": {
        "colab": {
          "base_uri": "https://localhost:8080/"
        },
        "id": "sLYzBPYYbvmt",
        "outputId": "7563dd9b-9d7a-4384-ef7e-24d49bb585bf"
      },
      "execution_count": 198,
      "outputs": [
        {
          "output_type": "stream",
          "name": "stdout",
          "text": [
            "Requirement already satisfied: apyori in /usr/local/lib/python3.10/dist-packages (1.1.2)\n"
          ]
        }
      ]
    },
    {
      "cell_type": "code",
      "source": [
        "!pip install efficient-apriori"
      ],
      "metadata": {
        "colab": {
          "base_uri": "https://localhost:8080/"
        },
        "id": "wPAEY2qZJ08u",
        "outputId": "72620f6b-9d42-47c3-86f3-0ffb330fcff5"
      },
      "execution_count": 199,
      "outputs": [
        {
          "output_type": "stream",
          "name": "stdout",
          "text": [
            "Requirement already satisfied: efficient-apriori in /usr/local/lib/python3.10/dist-packages (2.0.3)\n"
          ]
        }
      ]
    },
    {
      "cell_type": "markdown",
      "source": [
        "## Packages"
      ],
      "metadata": {
        "id": "OlBO9mrmcj39"
      }
    },
    {
      "cell_type": "code",
      "source": [
        "import re\n",
        "import string\n",
        "import numpy as np\n",
        "import pandas as pd\n",
        "from pathlib import Path\n",
        "from collections import Counter\n",
        "import matplotlib.pyplot as plt"
      ],
      "metadata": {
        "id": "SyWLcpzNayY8"
      },
      "execution_count": 200,
      "outputs": []
    },
    {
      "cell_type": "code",
      "source": [
        "current_working_dir = Path('.')\n",
        "current_working_dir.absolute()\n"
      ],
      "metadata": {
        "colab": {
          "base_uri": "https://localhost:8080/"
        },
        "id": "TgGBQaNPa0yN",
        "outputId": "c10ece34-30d6-480b-9ebf-fcbc79e59beb"
      },
      "execution_count": 201,
      "outputs": [
        {
          "output_type": "execute_result",
          "data": {
            "text/plain": [
              "PosixPath('/content')"
            ]
          },
          "metadata": {},
          "execution_count": 201
        }
      ]
    },
    {
      "cell_type": "markdown",
      "source": [
        "## Load data"
      ],
      "metadata": {
        "id": "HQhn90cOclmv"
      }
    },
    {
      "cell_type": "code",
      "source": [
        "with open(current_working_dir.absolute() / 'words_250000_train.txt') as file:\n",
        "    content = file.read()\n",
        "    words = content.split()\n",
        "\n",
        "len(words), words[:5]"
      ],
      "metadata": {
        "colab": {
          "base_uri": "https://localhost:8080/"
        },
        "id": "OntcpR0Sa3iH",
        "outputId": "dac8641d-afa1-4710-9a07-a08b4c41940c"
      },
      "execution_count": 202,
      "outputs": [
        {
          "output_type": "execute_result",
          "data": {
            "text/plain": [
              "(227300, ['aaa', 'aaaaaa', 'aaas', 'aachen', 'aaee'])"
            ]
          },
          "metadata": {},
          "execution_count": 202
        }
      ]
    },
    {
      "cell_type": "code",
      "source": [
        "letters = \"\".join(words)\n",
        "len(letters), letters[:20]"
      ],
      "metadata": {
        "colab": {
          "base_uri": "https://localhost:8080/"
        },
        "id": "LDpmmUGNa7fX",
        "outputId": "6c43e683-e7a7-4256-80b4-398615849298"
      },
      "execution_count": 203,
      "outputs": [
        {
          "output_type": "execute_result",
          "data": {
            "text/plain": [
              "(2124746, 'aaaaaaaaaaaasaachena')"
            ]
          },
          "metadata": {},
          "execution_count": 203
        }
      ]
    },
    {
      "cell_type": "code",
      "source": [
        "count_letters = Counter(letters)\n",
        "# count_letters"
      ],
      "metadata": {
        "id": "FiZKJCyNa9Rp"
      },
      "execution_count": 204,
      "outputs": []
    },
    {
      "cell_type": "code",
      "source": [
        "count_word_len = Counter(len(word) for word in words)\n",
        "# count_word_len"
      ],
      "metadata": {
        "id": "ninDEV6-a_wb"
      },
      "execution_count": 205,
      "outputs": []
    },
    {
      "cell_type": "code",
      "source": [
        "max(count_word_len.elements()), max(count_word_len)\n"
      ],
      "metadata": {
        "colab": {
          "base_uri": "https://localhost:8080/"
        },
        "id": "rSzYg8DvbCBp",
        "outputId": "e171aeba-fa0d-4496-eefd-5a87da11aaae"
      },
      "execution_count": 206,
      "outputs": [
        {
          "output_type": "execute_result",
          "data": {
            "text/plain": [
              "(29, 29)"
            ]
          },
          "metadata": {},
          "execution_count": 206
        }
      ]
    },
    {
      "cell_type": "code",
      "source": [
        "word_lengths = list(count_word_len.keys())\n",
        "counts = list(count_word_len.values())\n",
        "\n",
        "plt.bar(word_lengths, counts)\n",
        "plt.xlabel('Words')\n",
        "plt.ylabel('Counts')\n",
        "plt.title('Word Counts')\n",
        "\n",
        "plt.show()"
      ],
      "metadata": {
        "colab": {
          "base_uri": "https://localhost:8080/",
          "height": 472
        },
        "id": "agniiwvObD5_",
        "outputId": "c2eccbda-343b-44f7-aa4f-2752f1b1cf0b"
      },
      "execution_count": 207,
      "outputs": [
        {
          "output_type": "display_data",
          "data": {
            "text/plain": [
              "<Figure size 640x480 with 1 Axes>"
            ],
            "image/png": "[encoded data removed]"
          },
          "metadata": {}
        }
      ]
    },
    {
      "cell_type": "markdown",
      "source": [
        "## Spliting words into train and test"
      ],
      "metadata": {
        "id": "qLW9Do1FW4hH"
      }
    },
    {
      "cell_type": "code",
      "source": [
        "from sklearn.model_selection import train_test_split\n",
        "\n",
        "inx_range = np.arange(int(len(words)))\n",
        "train_inx, test_inx = train_test_split(inx_range, test_size=0.2, random_state=42)\n",
        "train_inx.shape, test_inx.shape"
      ],
      "metadata": {
        "colab": {
          "base_uri": "https://localhost:8080/"
        },
        "id": "9yAxXs3Tb_u2",
        "outputId": "cce29aec-d2f9-4042-e30a-c7a410a01739"
      },
      "execution_count": 208,
      "outputs": [
        {
          "output_type": "execute_result",
          "data": {
            "text/plain": [
              "((181840,), (45460,))"
            ]
          },
          "metadata": {},
          "execution_count": 208
        }
      ]
    },
    {
      "cell_type": "code",
      "source": [
        "train_inx"
      ],
      "metadata": {
        "colab": {
          "base_uri": "https://localhost:8080/"
        },
        "id": "JCv31PEocCyV",
        "outputId": "a2ff455a-bcee-4c28-eb76-a2a72c046a2a"
      },
      "execution_count": 209,
      "outputs": [
        {
          "output_type": "execute_result",
          "data": {
            "text/plain": [
              "array([ 63941,  35888, 173578, ..., 131932, 146867, 121958])"
            ]
          },
          "metadata": {},
          "execution_count": 209
        }
      ]
    },
    {
      "cell_type": "code",
      "source": [
        "train_words = [words[inx] for inx in train_inx]\n",
        "test_words = [words[inx] for inx in test_inx]\n",
        "len(train_words), len(test_inx)\n"
      ],
      "metadata": {
        "colab": {
          "base_uri": "https://localhost:8080/"
        },
        "id": "1iFAcLo1cEi6",
        "outputId": "492ebbca-9846-4425-df2a-7a789914a4e9"
      },
      "execution_count": 210,
      "outputs": [
        {
          "output_type": "execute_result",
          "data": {
            "text/plain": [
              "(181840, 45460)"
            ]
          },
          "metadata": {},
          "execution_count": 210
        }
      ]
    },
    {
      "cell_type": "markdown",
      "source": [
        "For final submission, no test set if created\n",
        "\n",
        "Test set only for internal development"
      ],
      "metadata": {
        "id": "8P9p6ayEXMGS"
      }
    },
    {
      "cell_type": "code",
      "source": [
        "train_words = words\n",
        "\n",
        "train_letters = [list(word) for word in train_words]\n"
      ],
      "metadata": {
        "id": "k83q_pBxcL0o"
      },
      "execution_count": 211,
      "outputs": []
    },
    {
      "cell_type": "markdown",
      "source": [
        "## apyori package"
      ],
      "metadata": {
        "id": "mtz34s7cJBxC"
      }
    },
    {
      "cell_type": "code",
      "source": [
        "min_support=0.2\n",
        "min_confidence=0.1"
      ],
      "metadata": {
        "id": "w87JTLiDZiz-"
      },
      "execution_count": 212,
      "outputs": []
    },
    {
      "cell_type": "code",
      "source": [
        "from apyori import apriori\n",
        "\n",
        "# perfroming association analysis with some constraints to filter out noisy relationships\n",
        "rules = apriori(train_letters,\n",
        "                min_support=min_support,\n",
        "                min_confidence=min_confidence,\n",
        "                min_lift = 1.0)\n",
        "rules_dict = {}\n",
        "common_letters = {}\n",
        "counts = {}\n",
        "\n",
        "# Extracting rules and storing in format usable for playing the game\n",
        "for rule in rules:\n",
        "    for ordered_statistic in rule.ordered_statistics:\n",
        "        items_base = tuple(ordered_statistic.items_base)\n",
        "        items_add = tuple(ordered_statistic.items_add)\n",
        "        lift = ordered_statistic.lift\n",
        "\n",
        "        if len(items_base) < 1:\n",
        "            for item in items_add:\n",
        "                if item not in common_letters.keys():\n",
        "                    common_letters[item] = lift\n",
        "                else:\n",
        "                    common_letters[item] += lift\n",
        "            continue\n",
        "\n",
        "        # print(len(items_base), items_base, len(items_add), items_add, lift)\n",
        "        item = items_base + items_add\n",
        "        rules_dict[item] = lift\n",
        "\n",
        "        if items_add[0] not in counts.keys():\n",
        "            counts[items_add[0]] = 1\n",
        "        else:\n",
        "            counts[items_add[0]] += 1\n",
        "\n",
        "# rules extarcted\n",
        "len(counts.keys())"
      ],
      "metadata": {
        "colab": {
          "base_uri": "https://localhost:8080/"
        },
        "id": "LmRY3OpwbT6_",
        "outputId": "e3410d99-3297-43d0-beb1-7b4743d9a8c1"
      },
      "execution_count": 213,
      "outputs": [
        {
          "output_type": "execute_result",
          "data": {
            "text/plain": [
              "11"
            ]
          },
          "metadata": {},
          "execution_count": 213
        }
      ]
    },
    {
      "cell_type": "code",
      "source": [
        "def drop_keys_with_letter(dictionary, letter):\n",
        "    return {key: value for key, value in dictionary.items() if letter not in key}\n"
      ],
      "metadata": {
        "id": "FWYhzkcUlqe4"
      },
      "execution_count": 214,
      "outputs": []
    },
    {
      "cell_type": "code",
      "source": [
        "updated_rules_dict = {k:v for k,v in rules_dict.items() if 'a' in k}\n",
        "\n",
        "len(rules_dict), len(updated_rules_dict)"
      ],
      "metadata": {
        "colab": {
          "base_uri": "https://localhost:8080/"
        },
        "id": "3XUdqbiElqWn",
        "outputId": "f93e72cf-7fbb-42f5-84ee-e735067ec9cb"
      },
      "execution_count": 215,
      "outputs": [
        {
          "output_type": "execute_result",
          "data": {
            "text/plain": [
              "(84, 26)"
            ]
          },
          "metadata": {},
          "execution_count": 215
        }
      ]
    },
    {
      "cell_type": "code",
      "source": [
        "updated_rules_dict2 = {k:v for k,v in rules_dict.items() if ('a' in k) and (k[-1] != 'a')}\n",
        "len(rules_dict), len(updated_rules_dict), len(updated_rules_dict2)"
      ],
      "metadata": {
        "colab": {
          "base_uri": "https://localhost:8080/"
        },
        "id": "27oJQqppnBpB",
        "outputId": "487d2b4a-3db7-4bc5-b145-cc3a1b62b3ab"
      },
      "execution_count": 216,
      "outputs": [
        {
          "output_type": "execute_result",
          "data": {
            "text/plain": [
              "(84, 26, 19)"
            ]
          },
          "metadata": {},
          "execution_count": 216
        }
      ]
    },
    {
      "cell_type": "code",
      "source": [
        "updated_rules_dict2"
      ],
      "metadata": {
        "colab": {
          "base_uri": "https://localhost:8080/"
        },
        "id": "2uod_LGdnMbz",
        "outputId": "830a5c97-86ee-4f1f-afa3-97943fe9a927"
      },
      "execution_count": 217,
      "outputs": [
        {
          "output_type": "execute_result",
          "data": {
            "text/plain": [
              "{('a', 'c'): 1.0762757492193378,\n",
              " ('a', 'l'): 1.0820383965170233,\n",
              " ('a', 'n'): 1.0319005793906415,\n",
              " ('a', 'r'): 1.0259893754979124,\n",
              " ('a', 't'): 1.0646608695083393,\n",
              " ('n', 'a', 'e'): 1.0476367377301978,\n",
              " ('a', 'e', 'n'): 1.0476367377301978,\n",
              " ('e', 'a', 'r'): 1.018870095422616,\n",
              " ('r', 'a', 'e'): 1.1090058098175526,\n",
              " ('a', 'e', 'r'): 1.1090058098175528,\n",
              " ('a', 'r', 'e'): 1.018870095422616,\n",
              " ('a', 't', 'e'): 1.0063406344974204,\n",
              " ('e', 'a', 't'): 1.0063406344974204,\n",
              " ('t', 'a', 'e'): 1.1366544165277754,\n",
              " ('a', 'e', 't'): 1.1366544165277754,\n",
              " ('a', 'n', 'i'): 1.1174073837557075,\n",
              " ('i', 'a', 'n'): 1.1174073837557075,\n",
              " ('n', 'a', 'i'): 1.1794780815112138,\n",
              " ('a', 'i', 'n'): 1.1794780815112138}"
            ]
          },
          "metadata": {},
          "execution_count": 217
        }
      ]
    },
    {
      "cell_type": "code",
      "source": [
        "updated_rules_dict"
      ],
      "metadata": {
        "colab": {
          "base_uri": "https://localhost:8080/"
        },
        "id": "VCkckuULm-1B",
        "outputId": "b8526e5a-be31-458f-8318-459fe414da1b"
      },
      "execution_count": 218,
      "outputs": [
        {
          "output_type": "execute_result",
          "data": {
            "text/plain": [
              "{('a', 'c'): 1.0762757492193378,\n",
              " ('c', 'a'): 1.0762757492193378,\n",
              " ('a', 'l'): 1.0820383965170233,\n",
              " ('l', 'a'): 1.0820383965170233,\n",
              " ('a', 'n'): 1.0319005793906415,\n",
              " ('n', 'a'): 1.0319005793906415,\n",
              " ('a', 'r'): 1.0259893754979124,\n",
              " ('r', 'a'): 1.0259893754979126,\n",
              " ('a', 't'): 1.0646608695083393,\n",
              " ('t', 'a'): 1.0646608695083393,\n",
              " ('n', 'a', 'e'): 1.0476367377301978,\n",
              " ('a', 'e', 'n'): 1.0476367377301978,\n",
              " ('e', 'a', 'r'): 1.018870095422616,\n",
              " ('r', 'a', 'e'): 1.1090058098175526,\n",
              " ('a', 'e', 'r'): 1.1090058098175528,\n",
              " ('a', 'r', 'e'): 1.018870095422616,\n",
              " ('a', 't', 'e'): 1.0063406344974204,\n",
              " ('e', 'a', 't'): 1.0063406344974204,\n",
              " ('t', 'a', 'e'): 1.1366544165277754,\n",
              " ('a', 'e', 't'): 1.1366544165277754,\n",
              " ('t', 'e', 'a'): 1.0184052818031037,\n",
              " ('a', 'n', 'i'): 1.1174073837557075,\n",
              " ('i', 'a', 'n'): 1.1174073837557075,\n",
              " ('n', 'a', 'i'): 1.1794780815112138,\n",
              " ('a', 'i', 'n'): 1.1794780815112138,\n",
              " ('n', 'i', 'a'): 1.0109777731427279}"
            ]
          },
          "metadata": {},
          "execution_count": 218
        }
      ]
    },
    {
      "cell_type": "code",
      "source": [
        "# rules printed\n",
        "rules_dict"
      ],
      "metadata": {
        "colab": {
          "base_uri": "https://localhost:8080/"
        },
        "id": "XPa09sQ6MawA",
        "outputId": "2b2286df-7321-413f-80b1-ce97de124f79"
      },
      "execution_count": 219,
      "outputs": [
        {
          "output_type": "execute_result",
          "data": {
            "text/plain": [
              "{('a', 'c'): 1.0762757492193378,\n",
              " ('c', 'a'): 1.0762757492193378,\n",
              " ('a', 'l'): 1.0820383965170233,\n",
              " ('l', 'a'): 1.0820383965170233,\n",
              " ('a', 'n'): 1.0319005793906415,\n",
              " ('n', 'a'): 1.0319005793906415,\n",
              " ('a', 'r'): 1.0259893754979124,\n",
              " ('r', 'a'): 1.0259893754979126,\n",
              " ('a', 't'): 1.0646608695083393,\n",
              " ('t', 'a'): 1.0646608695083393,\n",
              " ('c', 'i'): 1.105869587329439,\n",
              " ('i', 'c'): 1.105869587329439,\n",
              " ('d', 'e'): 1.134475276294916,\n",
              " ('e', 'd'): 1.1344752762949162,\n",
              " ('e', 'l'): 1.0306255356401484,\n",
              " ('l', 'e'): 1.0306255356401484,\n",
              " ('e', 'n'): 1.0194630961124218,\n",
              " ('n', 'e'): 1.0194630961124218,\n",
              " ('e', 'r'): 1.0836646097358502,\n",
              " ('r', 'e'): 1.0836646097358502,\n",
              " ('e', 's'): 1.0256411029963957,\n",
              " ('s', 'e'): 1.0256411029963959,\n",
              " ('e', 't'): 1.0520482504260438,\n",
              " ('t', 'e'): 1.0520482504260438,\n",
              " ('i', 'l'): 1.0586064014416179,\n",
              " ('l', 'i'): 1.0586064014416179,\n",
              " ('i', 'n'): 1.1405328161948713,\n",
              " ('n', 'i'): 1.1405328161948716,\n",
              " ('i', 's'): 1.0429483665585544,\n",
              " ('s', 'i'): 1.0429483665585546,\n",
              " ('i', 't'): 1.0937581215584595,\n",
              " ('t', 'i'): 1.0937581215584598,\n",
              " ('l', 'o'): 1.0111515519907857,\n",
              " ('o', 'l'): 1.0111515519907857,\n",
              " ('n', 'o'): 1.062245546467085,\n",
              " ('o', 'n'): 1.062245546467085,\n",
              " ('n', 't'): 1.042441899891597,\n",
              " ('t', 'n'): 1.042441899891597,\n",
              " ('o', 'r'): 1.0623429700116338,\n",
              " ('r', 'o'): 1.062342970011634,\n",
              " ('o', 's'): 1.013627881591362,\n",
              " ('s', 'o'): 1.013627881591362,\n",
              " ('o', 't'): 1.0852154677161499,\n",
              " ('t', 'o'): 1.0852154677161499,\n",
              " ('r', 't'): 1.0523119187479502,\n",
              " ('t', 'r'): 1.0523119187479502,\n",
              " ('s', 't'): 1.0349992501574001,\n",
              " ('t', 's'): 1.0349992501574001,\n",
              " ('n', 'a', 'e'): 1.0476367377301978,\n",
              " ('a', 'e', 'n'): 1.0476367377301978,\n",
              " ('e', 'a', 'r'): 1.018870095422616,\n",
              " ('r', 'a', 'e'): 1.1090058098175526,\n",
              " ('a', 'e', 'r'): 1.1090058098175528,\n",
              " ('a', 'r', 'e'): 1.018870095422616,\n",
              " ('a', 't', 'e'): 1.0063406344974204,\n",
              " ('e', 'a', 't'): 1.0063406344974204,\n",
              " ('t', 'a', 'e'): 1.1366544165277754,\n",
              " ('a', 'e', 't'): 1.1366544165277754,\n",
              " ('t', 'e', 'a'): 1.0184052818031037,\n",
              " ('a', 'n', 'i'): 1.1174073837557075,\n",
              " ('i', 'a', 'n'): 1.1174073837557075,\n",
              " ('n', 'a', 'i'): 1.1794780815112138,\n",
              " ('a', 'i', 'n'): 1.1794780815112138,\n",
              " ('n', 'i', 'a'): 1.0109777731427279,\n",
              " ('i', 'n', 'e'): 1.0986100586846355,\n",
              " ('n', 'e', 'i'): 1.0986100586846357,\n",
              " ('e', 'i', 'n'): 1.1517448092784837,\n",
              " ('e', 'r', 'i'): 1.0534792708170926,\n",
              " ('r', 'e', 'i'): 1.0788228709247156,\n",
              " ('e', 'i', 'r'): 1.0788228709247158,\n",
              " ('r', 'i', 'e'): 1.0534792708170926,\n",
              " ('i', 's', 'e'): 1.0122142325834542,\n",
              " ('s', 'e', 'i'): 1.0122142325834544,\n",
              " ('e', 'i', 's'): 1.0676011673774726,\n",
              " ('e', 't', 'i'): 1.0200795826860802,\n",
              " ('i', 't', 'e'): 1.060522012889652,\n",
              " ('t', 'e', 'i'): 1.060522012889652,\n",
              " ('e', 'i', 't'): 1.1473516097225147,\n",
              " ('t', 'i', 'e'): 1.0200795826860802,\n",
              " ('e', 'r', 't'): 1.1217280537390777,\n",
              " ('r', 't', 'e'): 1.1217280537390777,\n",
              " ('t', 'r', 'e'): 1.089274107448525,\n",
              " ('r', 'e', 't'): 1.0892741074485253,\n",
              " ('t', 'e', 'r'): 1.1220091854775172}"
            ]
          },
          "metadata": {},
          "execution_count": 219
        }
      ]
    },
    {
      "cell_type": "code",
      "source": [
        "rules = apriori(train_letters,\n",
        "                min_support=min_support,\n",
        "                min_confidence=min_confidence,\n",
        "                min_lift = 1.0)\n",
        "\n",
        "for rule in rules:\n",
        "  for ordered_statistic in rule.ordered_statistics:\n",
        "    if len(tuple(ordered_statistic.items_base)) > 1:\n",
        "      print(f\"Rule: {set(ordered_statistic.items_base)} -> {set(ordered_statistic.items_add)}\")\n",
        "      print(f\"Support: {rule.support}\")\n",
        "      print(f\"Confidence: {ordered_statistic.confidence}\")\n",
        "      print(f\"Lift: {ordered_statistic.lift}\")\n",
        "      print(\"--------------------\")"
      ],
      "metadata": {
        "colab": {
          "base_uri": "https://localhost:8080/"
        },
        "id": "He5g1VuUMbej",
        "outputId": "58d220ab-4d67-48d8-c7c8-60c877a9a38a"
      },
      "execution_count": 220,
      "outputs": [
        {
          "output_type": "stream",
          "name": "stdout",
          "text": [
            "Rule: {'a', 'e'} -> {'n'}\n",
            "Support: 0.200074791025077\n",
            "Confidence: 0.529929967255905\n",
            "Lift: 1.0476367377301978\n",
            "--------------------\n",
            "Rule: {'a', 'e'} -> {'r'}\n",
            "Support: 0.22205895292564892\n",
            "Confidence: 0.5881585233694956\n",
            "Lift: 1.1090058098175528\n",
            "--------------------\n",
            "Rule: {'a', 'r'} -> {'e'}\n",
            "Support: 0.22205895292564892\n",
            "Confidence: 0.6940105598944011\n",
            "Lift: 1.018870095422616\n",
            "--------------------\n",
            "Rule: {'a', 'e'} -> {'t'}\n",
            "Support: 0.20468983721953365\n",
            "Confidence: 0.5421536525397066\n",
            "Lift: 1.1366544165277754\n",
            "--------------------\n",
            "Rule: {'a', 't'} -> {'e'}\n",
            "Support: 0.20468983721953365\n",
            "Confidence: 0.6854760291127678\n",
            "Lift: 1.0063406344974204\n",
            "--------------------\n",
            "Rule: {'t', 'e'} -> {'a'}\n",
            "Support: 0.20468983721953365\n",
            "Confidence: 0.5988518766410956\n",
            "Lift: 1.0184052818031037\n",
            "--------------------\n",
            "Rule: {'a', 'i'} -> {'n'}\n",
            "Support: 0.20313682358117027\n",
            "Confidence: 0.5966197619878281\n",
            "Lift: 1.1794780815112138\n",
            "--------------------\n",
            "Rule: {'a', 'n'} -> {'i'}\n",
            "Support: 0.20313682358117027\n",
            "Confidence: 0.6618266777513402\n",
            "Lift: 1.1174073837557075\n",
            "--------------------\n",
            "Rule: {'n', 'i'} -> {'a'}\n",
            "Support: 0.20313682358117027\n",
            "Confidence: 0.5944842858798234\n",
            "Lift: 1.0109777731427279\n",
            "--------------------\n",
            "Rule: {'e', 'i'} -> {'n'}\n",
            "Support: 0.22856137263528375\n",
            "Confidence: 0.582591338282459\n",
            "Lift: 1.1517448092784837\n",
            "--------------------\n",
            "Rule: {'n', 'e'} -> {'i'}\n",
            "Support: 0.22856137263528375\n",
            "Confidence: 0.6506932528400196\n",
            "Lift: 1.0986100586846357\n",
            "--------------------\n",
            "Rule: {'e', 'i'} -> {'r'}\n",
            "Support: 0.22446546414430268\n",
            "Confidence: 0.5721510754255725\n",
            "Lift: 1.0788228709247158\n",
            "--------------------\n",
            "Rule: {'r', 'i'} -> {'e'}\n",
            "Support: 0.22446546414430268\n",
            "Confidence: 0.7175848440950198\n",
            "Lift: 1.0534792708170926\n",
            "--------------------\n",
            "Rule: {'e', 'i'} -> {'s'}\n",
            "Support: 0.20308842938847338\n",
            "Confidence: 0.5176620988180411\n",
            "Lift: 1.0676011673774726\n",
            "--------------------\n",
            "Rule: {'s', 'e'} -> {'i'}\n",
            "Support: 0.20308842938847338\n",
            "Confidence: 0.599522065508195\n",
            "Lift: 1.0122142325834544\n",
            "--------------------\n",
            "Rule: {'e', 'i'} -> {'t'}\n",
            "Support: 0.21469863616366036\n",
            "Confidence: 0.5472559266153812\n",
            "Lift: 1.1473516097225147\n",
            "--------------------\n",
            "Rule: {'t', 'e'} -> {'i'}\n",
            "Support: 0.21469863616366036\n",
            "Confidence: 0.6281341708283994\n",
            "Lift: 1.060522012889652\n",
            "--------------------\n",
            "Rule: {'t', 'i'} -> {'e'}\n",
            "Support: 0.21469863616366036\n",
            "Confidence: 0.694834410684284\n",
            "Lift: 1.0200795826860802\n",
            "--------------------\n",
            "Rule: {'r', 'e'} -> {'t'}\n",
            "Support: 0.2033919929608447\n",
            "Confidence: 0.5195545166438157\n",
            "Lift: 1.0892741074485253\n",
            "--------------------\n",
            "Rule: {'t', 'e'} -> {'r'}\n",
            "Support: 0.2033919929608447\n",
            "Confidence: 0.5950548319003244\n",
            "Lift: 1.1220091854775172\n",
            "--------------------\n",
            "Rule: {'r', 't'} -> {'e'}\n",
            "Support: 0.2033919929608447\n",
            "Confidence: 0.7640729844974051\n",
            "Lift: 1.1217280537390777\n",
            "--------------------\n"
          ]
        }
      ]
    },
    {
      "cell_type": "code",
      "source": [],
      "metadata": {
        "id": "gU4Y96ITMbiE"
      },
      "execution_count": 220,
      "outputs": []
    },
    {
      "cell_type": "code",
      "source": [],
      "metadata": {
        "id": "17CITy2wMblP"
      },
      "execution_count": 220,
      "outputs": []
    },
    {
      "cell_type": "code",
      "source": [
        "# Saving the extracted rules in dict for future use\n",
        "import pickle\n",
        "\n",
        "with open(current_working_dir.absolute() / 'rules_dict_v3.pkl', 'wb') as f:\n",
        "  pickle.dump(rules_dict, f)\n",
        "\n",
        "with open(current_working_dir.absolute() / 'common_letters_v3.pkl', 'wb') as f:\n",
        "  pickle.dump(common_letters, f)\n",
        "\n",
        "with open(current_working_dir.absolute() / 'counts_v3.pkl', 'wb') as f:\n",
        "  pickle.dump(counts, f)\n"
      ],
      "metadata": {
        "id": "EsmRWo9jedGv"
      },
      "execution_count": 221,
      "outputs": []
    },
    {
      "cell_type": "code",
      "source": [
        "max_key = sorted(rules_dict, key=rules_dict.get)[-1]\n",
        "print(max_key, rules_dict[max_key])\n"
      ],
      "metadata": {
        "colab": {
          "base_uri": "https://localhost:8080/"
        },
        "id": "c7-enmsfbW0e",
        "outputId": "72e760c6-1a30-47d5-cf4d-6ef001abd900"
      },
      "execution_count": 222,
      "outputs": [
        {
          "output_type": "stream",
          "name": "stdout",
          "text": [
            "('a', 'i', 'n') 1.1794780815112138\n"
          ]
        }
      ]
    },
    {
      "cell_type": "code",
      "source": [
        "association = sorted(rules_dict, key=rules_dict.get)[-2]\n",
        "base = association[:-1]\n",
        "guess = association[-1]\n",
        "print(base, rules_dict[association], guess)\n"
      ],
      "metadata": {
        "colab": {
          "base_uri": "https://localhost:8080/"
        },
        "id": "rvsmyhaVbYfA",
        "outputId": "8a96347f-55fe-4fc2-8857-964bff2c4d3c"
      },
      "execution_count": 223,
      "outputs": [
        {
          "output_type": "stream",
          "name": "stdout",
          "text": [
            "('n', 'a') 1.1794780815112138 i\n"
          ]
        }
      ]
    },
    {
      "cell_type": "code",
      "source": [],
      "metadata": {
        "id": "L4rJ29dlj56R"
      },
      "execution_count": 223,
      "outputs": []
    },
    {
      "cell_type": "code",
      "source": [
        "def guess_regex_association(word_list, state, guessed_letters, rules_dict_game, display=False):\n",
        "\n",
        "    guess = None\n",
        "\n",
        "    # Removing ruless associated with letters already guessed\n",
        "    for g_letter in guessed_letters:\n",
        "      rules_dict_game = {k:v for k,v in rules_dict_game.items() if (g_letter in k) and (k[-1] != g_letter)}\n",
        "\n",
        "    # Convert the list of guessed letters to a string and replace \"_ \" with \".\"\n",
        "    guessed_word = \"\".join(state).replace(\"_\", \".\")\n",
        "\n",
        "    # Find all words in word_list that match the pattern in guessed_word\n",
        "    matched_words = [word for word in word_list if re.match(guessed_word, word)]\n",
        "\n",
        "    # Concatenate all matched words into a single string\n",
        "    matched_letters = \"\".join(matched_words)\n",
        "    # Print the guessed word and the number of possible words left\n",
        "    if display == True:\n",
        "        print(f\"\\t Guessed word: {guessed_word}, Possible words left: {len(matched_words)}\")\n",
        "    # Count the occurrences of each letter in matched_letters\n",
        "    count_letters = Counter(matched_letters)\n",
        "    # Create a new dictionary from count_letters, excluding keys that are in correct_guessed_letters or wrong_guessed_letters\n",
        "    updated_letters = {k:v for k, v in count_letters.items() if k not in guessed_letters}\n",
        "\n",
        "    if len(updated_letters) > 0:\n",
        "\n",
        "        # Calculate the total count of all remaining letters\n",
        "        total = sum(updated_letters.values())\n",
        "        # Create a new dictionary where each key's value is its probability (its count divided by the total count)\n",
        "        updated_letters_probs = {k:v/total for k, v in updated_letters.items()}\n",
        "        # Randomly choose a letter with probs of choosing depending on count of occurence\n",
        "        try:\n",
        "            # stochastic\n",
        "            # guess = np.random.choice(list(updated_letters_probs.keys()), p=list(updated_letters_probs.values()))\n",
        "            # greedy\n",
        "            guess = sorted(updated_letters_probs, key=updated_letters_probs.get)[-1]\n",
        "        except:\n",
        "            print('state:', state)\n",
        "            print('guessed_letters', guessed_letters)\n",
        "            print('matched_letters', matched_letters)\n",
        "            print('matched_words', matched_words)\n",
        "            print('updated_letters_probs: K', list(updated_letters_probs.keys()))\n",
        "            print('updated_letters_probs: V', list(updated_letters_probs.values()))\n",
        "            print(f\"\\t Guessed word: {guessed_word}, Possible words left: {len(matched_words)}\")\n",
        "\n",
        "            raise\n",
        "\n",
        "    # check if association rules can be applied or not?\n",
        "    elif not set(counts.keys()).issubset(guessed_letters):\n",
        "        if display == True:\n",
        "            print('\\n', '*'*10, 'In Association', '*'*10)\n",
        "        inx = 0\n",
        "        guess = guessed_letters.copy()[-1]\n",
        "        if display == True:\n",
        "            print('\\t Before: ', guess, guess in guessed_letters)\n",
        "            print('\\t In iteration....', end='\\t')\n",
        "\n",
        "        # run an iteration to find an association rule yet to be used\n",
        "        while guess in guessed_letters:\n",
        "            if display == True:\n",
        "                print('..', inx, end='\\t')\n",
        "            inx += 1\n",
        "            # filter association based on lift score\n",
        "            association = sorted(rules_dict, key=rules_dict.get)[-inx]\n",
        "            base = association[:-1]\n",
        "            # check if support present in the current state of the word\n",
        "            check = set(base).issubset(guessed_letters)\n",
        "            if display == True:\n",
        "                print(base, rules_dict[association], check, end='\\t')\n",
        "\n",
        "            if check:\n",
        "                guess = association[-1]\n",
        "                if display == True:\n",
        "                    print('\\t Guessing based on ass: ', guess)\n",
        "    # Another rules/lift scores for most common words\n",
        "    elif not set(common_letters.keys()).issubset(guessed_letters):\n",
        "        if display == True:\n",
        "            print('\\n', '*'*10, 'In Char count', '*'*10)\n",
        "        dict_letters = common_letters.copy()\n",
        "        total = sum(dict_letters.values())\n",
        "        dict_letters = {k:v/total for k, v in dict_letters.items()}\n",
        "\n",
        "        # guess based on lift score as probablities\n",
        "        guess = np.random.choice(list(dict_letters.keys()), p=list(dict_letters.values()))\n",
        "        # run an iteration to find an association rule yet to be used\n",
        "        while (guess in guessed_letters) and (len(dict_letters) > 0):\n",
        "            dict_letters.pop(guess, None)\n",
        "            total = sum(dict_letters.values())\n",
        "            dict_letters = {k:v/total for k, v in dict_letters.items()}\n",
        "            guess = np.random.choice(list(dict_letters.keys()), p=list(dict_letters.values()))\n",
        "\n",
        "    if guess == None:\n",
        "        # random guess if everything else fails\n",
        "        try:\n",
        "            ascii_letters = list(string.ascii_lowercase)\n",
        "            guess = np.random.choice(ascii_letters)\n",
        "\n",
        "            while (guess in guessed_letters):\n",
        "                guess = np.random.choice(ascii_letters)\n",
        "                ascii_letters.remove(guess)\n",
        "        except:\n",
        "            print(ascii_letters)\n",
        "            print(guess)\n",
        "\n",
        "    return guess, rules_dict_game\n"
      ],
      "metadata": {
        "id": "nGOqSfambcCt"
      },
      "execution_count": 224,
      "outputs": []
    },
    {
      "cell_type": "code",
      "source": [
        "\n",
        "import random\n",
        "\n",
        "# self implementation of the game for internal algo dev and testing\n",
        "def hangman_game3(random_word, display=False):\n",
        "\n",
        "    word_list = train_words\n",
        "    state = ['_' for _ in random_word]\n",
        "    guessed_letters = []\n",
        "    attempts = 6\n",
        "    rules_dict_game = rules_dict.copy()\n",
        "\n",
        "    if display == True:\n",
        "        print('TRUE WORD:', random_word)\n",
        "\n",
        "    eps_states = [state.copy()]\n",
        "    eps_guessed_letters = [guessed_letters.copy()]\n",
        "\n",
        "    while (attempts > 0) and not (set(random_word) <= set(state)):\n",
        "        if display == True:\n",
        "            print('\\t \\n' + ' '.join(state))\n",
        "        guess, rules_dict_game = guess_regex_association(word_list, state, guessed_letters, rules_dict_game, display=display)\n",
        "\n",
        "        if display == True:\n",
        "            print(f'Current state: {state}, \\t Prediction: {guess}, \\t Guesssed :{guessed_letters}')\n",
        "        if (guess in random_word) and (guess not in guessed_letters):\n",
        "            for i in range(len(random_word)):\n",
        "                if random_word[i] == guess:\n",
        "                    state[i] = guess\n",
        "        else:\n",
        "            attempts -= 1\n",
        "            if display == True:\n",
        "                print(f\"\\t That letter - '{guess}' doesn't appear in the word; Attempts left: {attempts}\")\n",
        "\n",
        "        guessed_letters.append(guess)\n",
        "        eps_states.append(state.copy())\n",
        "        eps_guessed_letters.append(guessed_letters.copy())\n",
        "\n",
        "        if '_' not in state:\n",
        "            if display == True:\n",
        "                print(f\"You guessed the word! \\n You survived! \\n Word was: {random_word}\")\n",
        "            return True, eps_states, eps_guessed_letters, random_word\n",
        "    else:\n",
        "        if display == True:\n",
        "            print(f\"You lost! \\nWord was: {random_word}\")\n",
        "        return False, eps_states, eps_guessed_letters, random_word\n",
        "\n",
        "\n",
        "# random_word = 'apple'\n",
        "random_word = random.choice(test_words)\n",
        "\n",
        "result = hangman_game3(random_word, display=True)"
      ],
      "metadata": {
        "colab": {
          "base_uri": "https://localhost:8080/"
        },
        "id": "NysQmcs9bQ4A",
        "outputId": "25a94e83-3d49-4f95-bca8-1a866922b13d"
      },
      "execution_count": 228,
      "outputs": [
        {
          "output_type": "stream",
          "name": "stdout",
          "text": [
            "TRUE WORD: episcleral\n",
            "\t \n",
            "_ _ _ _ _ _ _ _ _ _\n",
            "\t Guessed word: .........., Possible words left: 101410\n",
            "Current state: ['_', '_', '_', '_', '_', '_', '_', '_', '_', '_'], \t Prediction: e, \t Guesssed :[]\n",
            "\t \n",
            "e _ _ _ _ _ e _ _ _\n",
            "\t Guessed word: e.....e..., Possible words left: 338\n",
            "Current state: ['e', '_', '_', '_', '_', '_', 'e', '_', '_', '_'], \t Prediction: t, \t Guesssed :['e']\n",
            "\t That letter - 't' doesn't appear in the word; Attempts left: 5\n",
            "\t \n",
            "e _ _ _ _ _ e _ _ _\n",
            "\t Guessed word: e.....e..., Possible words left: 338\n",
            "Current state: ['e', '_', '_', '_', '_', '_', 'e', '_', '_', '_'], \t Prediction: n, \t Guesssed :['e', 't']\n",
            "\t That letter - 'n' doesn't appear in the word; Attempts left: 4\n",
            "\t \n",
            "e _ _ _ _ _ e _ _ _\n",
            "\t Guessed word: e.....e..., Possible words left: 338\n",
            "Current state: ['e', '_', '_', '_', '_', '_', 'e', '_', '_', '_'], \t Prediction: r, \t Guesssed :['e', 't', 'n']\n",
            "\t \n",
            "e _ _ _ _ _ e r _ _\n",
            "\t Guessed word: e.....er.., Possible words left: 85\n",
            "Current state: ['e', '_', '_', '_', '_', '_', 'e', 'r', '_', '_'], \t Prediction: i, \t Guesssed :['e', 't', 'n', 'r']\n",
            "\t \n",
            "e _ i _ _ _ e r _ _\n",
            "\t Guessed word: e.i...er.., Possible words left: 3\n",
            "Current state: ['e', '_', 'i', '_', '_', '_', 'e', 'r', '_', '_'], \t Prediction: u, \t Guesssed :['e', 't', 'n', 'r', 'i']\n",
            "\t That letter - 'u' doesn't appear in the word; Attempts left: 3\n",
            "\t \n",
            "e _ i _ _ _ e r _ _\n",
            "\t Guessed word: e.i...er.., Possible words left: 3\n",
            "Current state: ['e', '_', 'i', '_', '_', '_', 'e', 'r', '_', '_'], \t Prediction: l, \t Guesssed :['e', 't', 'n', 'r', 'i', 'u']\n",
            "\t \n",
            "e _ i _ _ l e r _ l\n",
            "\t Guessed word: e.i..ler.l, Possible words left: 1\n",
            "Current state: ['e', '_', 'i', '_', '_', 'l', 'e', 'r', '_', 'l'], \t Prediction: a, \t Guesssed :['e', 't', 'n', 'r', 'i', 'u', 'l']\n",
            "\t \n",
            "e _ i _ _ l e r a l\n",
            "\t Guessed word: e.i..leral, Possible words left: 1\n",
            "Current state: ['e', '_', 'i', '_', '_', 'l', 'e', 'r', 'a', 'l'], \t Prediction: c, \t Guesssed :['e', 't', 'n', 'r', 'i', 'u', 'l', 'a']\n",
            "\t \n",
            "e _ i _ c l e r a l\n",
            "\t Guessed word: e.i.cleral, Possible words left: 1\n",
            "Current state: ['e', '_', 'i', '_', 'c', 'l', 'e', 'r', 'a', 'l'], \t Prediction: s, \t Guesssed :['e', 't', 'n', 'r', 'i', 'u', 'l', 'a', 'c']\n",
            "\t \n",
            "e _ i s c l e r a l\n",
            "\t Guessed word: e.iscleral, Possible words left: 1\n",
            "Current state: ['e', '_', 'i', 's', 'c', 'l', 'e', 'r', 'a', 'l'], \t Prediction: p, \t Guesssed :['e', 't', 'n', 'r', 'i', 'u', 'l', 'a', 'c', 's']\n",
            "You guessed the word! \n",
            " You survived! \n",
            " Word was: episcleral\n"
          ]
        }
      ]
    },
    {
      "cell_type": "code",
      "source": [
        "# Running a test during development\n",
        "count = 0\n",
        "for i in range(1, 10):\n",
        "    random_word = random.choice(test_words)\n",
        "\n",
        "    result = hangman_game3(random_word, display=False)\n",
        "    count += result[0]\n",
        "    print(f'Eps: {i}, WIN: {count}, %WIN: {(count / i)*100:.2f}')"
      ],
      "metadata": {
        "colab": {
          "base_uri": "https://localhost:8080/"
        },
        "id": "WolVTqdWcQSW",
        "outputId": "cfb235ff-8f59-444b-b1d1-cd3b209a4bd6"
      },
      "execution_count": 226,
      "outputs": [
        {
          "output_type": "stream",
          "name": "stdout",
          "text": [
            "Eps: 1, WIN: 0, %WIN: 0.00\n",
            "Eps: 2, WIN: 0, %WIN: 0.00\n",
            "Eps: 3, WIN: 0, %WIN: 0.00\n",
            "Eps: 4, WIN: 1, %WIN: 25.00\n",
            "Eps: 5, WIN: 1, %WIN: 20.00\n",
            "Eps: 6, WIN: 1, %WIN: 16.67\n",
            "Eps: 7, WIN: 2, %WIN: 28.57\n",
            "Eps: 8, WIN: 3, %WIN: 37.50\n",
            "Eps: 9, WIN: 4, %WIN: 44.44\n"
          ]
        }
      ]
    },
    {
      "cell_type": "markdown",
      "source": [
        "## efficient-apriori [Not used]"
      ],
      "metadata": {
        "id": "Barm0av4JFlr"
      }
    },
    {
      "cell_type": "code",
      "source": [],
      "metadata": {
        "id": "69ZjrdIHMNcU"
      },
      "execution_count": 226,
      "outputs": []
    },
    {
      "cell_type": "code",
      "source": [
        "from efficient_apriori import apriori as ef_apriori\n",
        "\n",
        "# perfroming association analysis with some constraints to filter out noisy relationships\n",
        "itemsets, rules = ef_apriori(train_letters,\n",
        "                          min_support=min_support,\n",
        "                          min_confidence=min_confidence\n",
        "                          )\n",
        "\n",
        "rules_dict = {}\n",
        "common_letters = {}\n",
        "counts = {}\n",
        "\n",
        "for rule in rules:\n",
        "  items_base = rule.lhs[0]\n",
        "  items_add = rule.rhs[0]\n",
        "  lift = rule.lift\n",
        "\n",
        "\n",
        "  if len(items_base) < 1:\n",
        "    for item in items_add:\n",
        "        if item not in common_letters.keys():\n",
        "            common_letters[item] = lift\n",
        "        else:\n",
        "            common_letters[item] += lift\n",
        "    continue\n",
        "\n",
        "  # print(len(items_base), items_base, len(items_add), items_add, lift)\n",
        "  item = items_base + items_add\n",
        "  rules_dict[item] = lift\n",
        "\n",
        "  if items_add[0] not in counts.keys():\n",
        "      counts[items_add[0]] = 1\n",
        "  else:\n",
        "      counts[items_add[0]] += 1\n",
        "\n",
        "len(counts.keys())\n"
      ],
      "metadata": {
        "colab": {
          "base_uri": "https://localhost:8080/"
        },
        "id": "nEKEnaXQJGcA",
        "outputId": "77d412ee-e7ea-4109-c3ec-a77b323cdaf4"
      },
      "execution_count": 227,
      "outputs": [
        {
          "output_type": "execute_result",
          "data": {
            "text/plain": [
              "11"
            ]
          },
          "metadata": {},
          "execution_count": 227
        }
      ]
    }
  ]
}